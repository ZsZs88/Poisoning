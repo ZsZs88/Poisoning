{
 "cells": [
  {
   "cell_type": "markdown",
   "source": [
    "# Machine Learning Poisonong Attacks in Malware Detection"
   ],
   "metadata": {
    "collapsed": false
   }
  },
  {
   "cell_type": "markdown",
   "source": [
    "## Prestart\n",
    "### Import libraries"
   ],
   "metadata": {
    "collapsed": false
   }
  },
  {
   "cell_type": "code",
   "execution_count": 78,
   "outputs": [],
   "source": [
    "import pandas as pd\n",
    "import numpy as np\n",
    "import tensorflow as tf\n",
    "from tensorflow import keras\n",
    "from keras import layers"
   ],
   "metadata": {
    "collapsed": false
   }
  },
  {
   "cell_type": "markdown",
   "source": [
    "### Files\n",
    "Store the paths for our files in variables"
   ],
   "metadata": {
    "collapsed": false
   }
  },
  {
   "cell_type": "code",
   "execution_count": 79,
   "outputs": [],
   "source": [
    "file_arm_attacker_training = \"files\\\\arm_datasets\\\\arm_attacker_training.csv\"\n",
    "file_arm_attacker_validation = \"files\\\\arm_datasets\\\\arm_attacker_validation.csv\"\n",
    "file_arm_attacker_test = \"files\\\\arm_datasets\\\\arm_attacker_test.csv\"\n",
    "\n",
    "file_arm_victim_training = \"files\\\\arm_datasets\\\\arm_victim_training.csv\"\n",
    "file_arm_victim_validation = \"files\\\\arm_datasets\\\\arm_victim_validation.csv\"\n",
    "file_arm_victim_test = \"files\\\\arm_datasets\\\\arm_victim_test.csv\""
   ],
   "metadata": {
    "collapsed": false
   }
  },
  {
   "cell_type": "markdown",
   "source": [
    "## Creating the arm datasets\n",
    "$ 8:1:1 $ - Training:Test:Validation"
   ],
   "metadata": {
    "collapsed": false
   }
  },
  {
   "cell_type": "markdown",
   "source": [
    "### Attacker dataset\n",
    "For the first model - we call it *Clean* - we will train on clean a clean dataset"
   ],
   "metadata": {
    "collapsed": false
   }
  },
  {
   "cell_type": "markdown",
   "source": [
    "#### Reading in\n",
    "In this state the csv contains the filename and the label"
   ],
   "metadata": {
    "collapsed": false
   }
  },
  {
   "cell_type": "code",
   "execution_count": 80,
   "outputs": [],
   "source": [
    "arm_attacker_training = pd.read_csv(file_arm_attacker_training, header=None, index_col=False)\n",
    "arm_attacker_validation = pd.read_csv(file_arm_attacker_validation, header=None, index_col=False)\n",
    "arm_attacker_test = pd.read_csv(file_arm_attacker_test, header=None, index_col=False)"
   ],
   "metadata": {
    "collapsed": false
   }
  },
  {
   "cell_type": "markdown",
   "source": [
    "#### Dataset\n",
    "Creating the pure dataset, only features"
   ],
   "metadata": {
    "collapsed": false
   }
  },
  {
   "cell_type": "code",
   "execution_count": 81,
   "outputs": [],
   "source": [
    "dataset_arm_attacker_training = np.asarray(arm_attacker_training.drop(columns=arm_attacker_training.columns[-2:]))\n",
    "dataset_arm_attacker_validation = np.asarray(arm_attacker_validation.drop(columns=arm_attacker_validation.columns[-2:]))\n",
    "dataset_arm_attacker_test = np.asarray(arm_attacker_test.drop(columns=arm_attacker_test.columns[-2:]))"
   ],
   "metadata": {
    "collapsed": false
   }
  },
  {
   "cell_type": "markdown",
   "source": [
    "#### Labels for the attacker datasets\n",
    "Creating the labels for the attacker datasets\n",
    "*Malware* - $ 0 $, *Benign* - $ 1 $\n",
    "-**Trainining**: 800 malware, 800 benign\n",
    "-**Validation**: 100 malware, 100 benign\n",
    "-**Test**: 100 malware, 100 benign"
   ],
   "metadata": {
    "collapsed": false
   }
  },
  {
   "cell_type": "code",
   "execution_count": 82,
   "outputs": [],
   "source": [
    "labels_arm_attacker_training = np.asarray(arm_attacker_training[arm_attacker_training.columns[-1]])\n",
    "labels_arm_attacker_validation = np.asarray(arm_attacker_validation[arm_attacker_validation.columns[-1]])\n",
    "labels_arm_attacker_test = np.asarray(arm_attacker_test[arm_attacker_test.columns[-1]])"
   ],
   "metadata": {
    "collapsed": false
   }
  },
  {
   "cell_type": "markdown",
   "source": [
    "#### Filenames\n",
    "Getting the filenames separated just for the fun of it"
   ],
   "metadata": {
    "collapsed": false
   }
  },
  {
   "cell_type": "code",
   "execution_count": 83,
   "outputs": [],
   "source": [
    "names_arm_attacker_training = arm_attacker_training[arm_attacker_training.columns[-2]]\n",
    "names_arm_attacker_validation = arm_attacker_validation[arm_attacker_validation.columns[-2]]\n",
    "names_arm_attacker_test = arm_attacker_test[arm_attacker_test.columns[-2]]"
   ],
   "metadata": {
    "collapsed": false
   }
  },
  {
   "cell_type": "code",
   "execution_count": null,
   "outputs": [],
   "source": [
    "names_arm_attacker_training.to_csv(\"files\\\\filenames\\\\arm_attacker\")"
   ],
   "metadata": {
    "collapsed": false
   }
  },
  {
   "cell_type": "markdown",
   "source": [
    "### Victim dataset\n",
    "For the second model - we call it *Victim* - we will train on clean a poisoned dataset"
   ],
   "metadata": {
    "collapsed": false
   }
  },
  {
   "cell_type": "markdown",
   "source": [
    "#### Reading in\n",
    "In this state the csv contains the filename and the label"
   ],
   "metadata": {
    "collapsed": false
   }
  },
  {
   "cell_type": "code",
   "execution_count": 84,
   "outputs": [],
   "source": [
    "arm_victim_training = pd.read_csv(file_arm_victim_training, header=None, index_col=False)\n",
    "arm_victim_validation = pd.read_csv(file_arm_victim_validation, header=None, index_col=False)\n",
    "arm_victim_test = pd.read_csv(file_arm_victim_test, header=None, index_col=False)"
   ],
   "metadata": {
    "collapsed": false
   }
  },
  {
   "cell_type": "markdown",
   "source": [
    "#### Dataset\n",
    "Creating the pure dataset, only features"
   ],
   "metadata": {
    "collapsed": false
   }
  },
  {
   "cell_type": "code",
   "execution_count": 85,
   "outputs": [],
   "source": [
    "dataset_arm_victim_training = np.asarray(arm_victim_training.drop(columns=arm_victim_training.columns[-2:]))\n",
    "dataset_arm_victim_validation = np.asarray(arm_victim_validation.drop(columns=arm_victim_validation.columns[-2:]))\n",
    "dataset_arm_victim_test = np.asarray(arm_victim_test.drop(columns=arm_victim_test.columns[-2:]))"
   ],
   "metadata": {
    "collapsed": false
   }
  },
  {
   "cell_type": "markdown",
   "source": [
    "#### Labels for the victim datasets\n",
    "Creating the labels for the victim datasets\n",
    "*Malware* - $ 0 $, *Benign* - $ 1 $\n",
    "-**Trainining**: 800 malware, 800 benign\n",
    "-**Validation**: 100 malware, 100 benign\n",
    "-**Test**: 100 malware, 100 benign"
   ],
   "metadata": {
    "collapsed": false
   }
  },
  {
   "cell_type": "code",
   "execution_count": 86,
   "outputs": [],
   "source": [
    "labels_arm_victim_training = np.asarray(arm_victim_training[arm_victim_training.columns[-1]])\n",
    "labels_arm_victim_validation = np.asarray(arm_victim_validation[arm_victim_validation.columns[-1]])\n",
    "labels_arm_victim_test = np.asarray(arm_victim_test[arm_victim_test.columns[-1]])"
   ],
   "metadata": {
    "collapsed": false
   }
  },
  {
   "cell_type": "markdown",
   "source": [
    "#### Filenames\n",
    "Getting the filenames separated just for the fun of it"
   ],
   "metadata": {
    "collapsed": false
   }
  },
  {
   "cell_type": "code",
   "execution_count": 87,
   "outputs": [],
   "source": [
    "names_arm_victim_training = arm_victim_training[arm_victim_training.columns[-2]]\n",
    "names_arm_victim_validation = arm_victim_validation[arm_victim_validation.columns[-2]]\n",
    "names_arm_victim_test = arm_victim_test[arm_victim_test.columns[-2]]"
   ],
   "metadata": {
    "collapsed": false
   }
  },
  {
   "cell_type": "markdown",
   "source": [
    "## Models for arm Datasets\n",
    "In this section we will build the models with the exact same struture\n",
    "Neural network with one *hidden layer* with a $sigmoid$ *activation function*"
   ],
   "metadata": {
    "collapsed": false
   }
  },
  {
   "cell_type": "markdown",
   "source": [
    "### Model for Attacker Data\n",
    "Building, fitting and evaluating the Model with the *attacker* datasets"
   ],
   "metadata": {
    "collapsed": false
   }
  },
  {
   "cell_type": "code",
   "execution_count": 88,
   "outputs": [
    {
     "name": "stdout",
     "output_type": "stream",
     "text": [
      "Epoch 1/10\n",
      "50/50 [==============================] - 0s 4ms/step - loss: 5.7462 - binary_accuracy: 0.5675 - val_loss: 3.4986 - val_binary_accuracy: 0.5700\n",
      "Epoch 2/10\n",
      "50/50 [==============================] - 0s 2ms/step - loss: 2.6650 - binary_accuracy: 0.5606 - val_loss: 1.8976 - val_binary_accuracy: 0.5900\n",
      "Epoch 3/10\n",
      "50/50 [==============================] - 0s 2ms/step - loss: 1.4964 - binary_accuracy: 0.6231 - val_loss: 1.0399 - val_binary_accuracy: 0.6900\n",
      "Epoch 4/10\n",
      "50/50 [==============================] - 0s 2ms/step - loss: 0.7554 - binary_accuracy: 0.7306 - val_loss: 0.5879 - val_binary_accuracy: 0.7900\n",
      "Epoch 5/10\n",
      "50/50 [==============================] - 0s 2ms/step - loss: 0.4390 - binary_accuracy: 0.8075 - val_loss: 0.3977 - val_binary_accuracy: 0.8300\n",
      "Epoch 6/10\n",
      "50/50 [==============================] - 0s 1ms/step - loss: 0.3052 - binary_accuracy: 0.8700 - val_loss: 0.3003 - val_binary_accuracy: 0.8650\n",
      "Epoch 7/10\n",
      "50/50 [==============================] - 0s 2ms/step - loss: 0.2334 - binary_accuracy: 0.9106 - val_loss: 0.2309 - val_binary_accuracy: 0.9050\n",
      "Epoch 8/10\n",
      "50/50 [==============================] - 0s 2ms/step - loss: 0.1863 - binary_accuracy: 0.9419 - val_loss: 0.1921 - val_binary_accuracy: 0.9350\n",
      "Epoch 9/10\n",
      "50/50 [==============================] - 0s 2ms/step - loss: 0.1561 - binary_accuracy: 0.9569 - val_loss: 0.1716 - val_binary_accuracy: 0.9550\n",
      "Epoch 10/10\n",
      "50/50 [==============================] - 0s 2ms/step - loss: 0.1356 - binary_accuracy: 0.9625 - val_loss: 0.1463 - val_binary_accuracy: 0.9450\n",
      "7/7 [==============================] - 0s 1ms/step - loss: 0.1482 - binary_accuracy: 0.9550\n"
     ]
    },
    {
     "data": {
      "text/plain": "[0.1481858491897583, 0.9549999833106995]"
     },
     "execution_count": 88,
     "metadata": {},
     "output_type": "execute_result"
    }
   ],
   "source": [
    "model_attacker = keras.Sequential(\n",
    "    [\n",
    "        layers.Dense(1, input_shape=(131,), activation=\"sigmoid\")\n",
    "    ]\n",
    ")\n",
    "model_attacker.compile(loss=tf.keras.losses.BinaryCrossentropy(),\n",
    "                    metrics=[tf.keras.metrics.BinaryAccuracy()])\n",
    "model_attacker.fit(dataset_arm_attacker_training, labels_arm_attacker_training, epochs=10,\n",
    "                validation_data=(dataset_arm_attacker_validation, labels_arm_attacker_validation))\n",
    "\n",
    "model_attacker.evaluate(dataset_arm_attacker_test, labels_arm_attacker_test)"
   ],
   "metadata": {
    "collapsed": false
   }
  },
  {
   "cell_type": "markdown",
   "source": [
    "### Model for Victim Data\n",
    "Building, fitting and evaluating the Model with the *victim* datasets"
   ],
   "metadata": {
    "collapsed": false
   }
  },
  {
   "cell_type": "code",
   "execution_count": 89,
   "outputs": [
    {
     "name": "stdout",
     "output_type": "stream",
     "text": [
      "Epoch 1/10\n",
      "50/50 [==============================] - 0s 3ms/step - loss: 1.9436 - binary_accuracy: 0.5088 - val_loss: 1.3009 - val_binary_accuracy: 0.5200\n",
      "Epoch 2/10\n",
      "50/50 [==============================] - 0s 1ms/step - loss: 0.8917 - binary_accuracy: 0.6269 - val_loss: 0.7221 - val_binary_accuracy: 0.6600\n",
      "Epoch 3/10\n",
      "50/50 [==============================] - 0s 2ms/step - loss: 0.5439 - binary_accuracy: 0.7287 - val_loss: 0.5134 - val_binary_accuracy: 0.7200\n",
      "Epoch 4/10\n",
      "50/50 [==============================] - 0s 2ms/step - loss: 0.4114 - binary_accuracy: 0.8100 - val_loss: 0.4148 - val_binary_accuracy: 0.8050\n",
      "Epoch 5/10\n",
      "50/50 [==============================] - 0s 1ms/step - loss: 0.3268 - binary_accuracy: 0.8550 - val_loss: 0.3137 - val_binary_accuracy: 0.9000\n",
      "Epoch 6/10\n",
      "50/50 [==============================] - 0s 2ms/step - loss: 0.2671 - binary_accuracy: 0.8988 - val_loss: 0.2595 - val_binary_accuracy: 0.9100\n",
      "Epoch 7/10\n",
      "50/50 [==============================] - 0s 2ms/step - loss: 0.2168 - binary_accuracy: 0.9212 - val_loss: 0.2121 - val_binary_accuracy: 0.9250\n",
      "Epoch 8/10\n",
      "50/50 [==============================] - 0s 1ms/step - loss: 0.1854 - binary_accuracy: 0.9344 - val_loss: 0.1808 - val_binary_accuracy: 0.9350\n",
      "Epoch 9/10\n",
      "50/50 [==============================] - 0s 1ms/step - loss: 0.1588 - binary_accuracy: 0.9475 - val_loss: 0.1561 - val_binary_accuracy: 0.9450\n",
      "Epoch 10/10\n",
      "50/50 [==============================] - 0s 1ms/step - loss: 0.1413 - binary_accuracy: 0.9569 - val_loss: 0.1370 - val_binary_accuracy: 0.9650\n",
      "7/7 [==============================] - 0s 1ms/step - loss: 0.1075 - binary_accuracy: 0.9750\n"
     ]
    },
    {
     "data": {
      "text/plain": "[0.10751333832740784, 0.9750000238418579]"
     },
     "execution_count": 89,
     "metadata": {},
     "output_type": "execute_result"
    }
   ],
   "source": [
    "model_victim = keras.Sequential(\n",
    "    [\n",
    "        layers.Dense(1, input_shape=(131,), activation=\"sigmoid\")\n",
    "    ]\n",
    ")\n",
    "model_victim.compile(loss=tf.keras.losses.BinaryCrossentropy(),\n",
    "                    metrics=[tf.keras.metrics.BinaryAccuracy()])\n",
    "model_victim.fit(dataset_arm_victim_training, labels_arm_victim_training, epochs=10,\n",
    "                validation_data=(dataset_arm_victim_validation, labels_arm_victim_validation))\n",
    "\n",
    "model_victim.evaluate(dataset_arm_victim_test, labels_arm_victim_test)"
   ],
   "metadata": {
    "collapsed": false
   }
  },
  {
   "cell_type": "markdown",
   "source": [
    "## POISON IT"
   ],
   "metadata": {
    "collapsed": false
   }
  },
  {
   "cell_type": "markdown",
   "source": [
    "### Files"
   ],
   "metadata": {
    "collapsed": false
   }
  },
  {
   "cell_type": "code",
   "execution_count": 90,
   "outputs": [],
   "source": [
    "file_poison_arm_BM = \"files\\\\poison_data\\\\poisoned_benign_malware.csv\"\n",
    "file_poison_arm_MB = \"files\\\\poison_data\\\\poisoned_malware_benign.csv\""
   ],
   "metadata": {
    "collapsed": false
   }
  },
  {
   "cell_type": "markdown",
   "source": [
    "### Poisoned Datasets"
   ],
   "metadata": {
    "collapsed": false
   }
  },
  {
   "cell_type": "markdown",
   "source": [
    "#### Attacker dataset"
   ],
   "metadata": {
    "collapsed": false
   }
  },
  {
   "cell_type": "code",
   "execution_count": 91,
   "outputs": [
    {
     "name": "stderr",
     "output_type": "stream",
     "text": [
      "C:\\Users\\ZsZs\\AppData\\Local\\Temp\\ipykernel_6128\\3648223893.py:2: FutureWarning: The frame.append method is deprecated and will be removed from pandas in a future version. Use pandas.concat instead.\n",
      "  poisoned_arm_attacker_training = arm_attacker_training.append(poisoned_arm_attacker_training, ignore_index=True).sample(frac=1)\n"
     ]
    }
   ],
   "source": [
    "poisoned_arm_attacker_training = pd.read_csv(file_poison_arm_BM, index_col=False, header=None)\n",
    "poisoned_arm_attacker_training = arm_attacker_training.append(poisoned_arm_attacker_training, ignore_index=True).sample(frac=1)\n",
    "dataset_poisoned_arm_attacker_training = np.asarray(poisoned_arm_attacker_training.drop(columns=poisoned_arm_attacker_training.columns[-2:]))\n",
    "labels_poisoned_arm_attacker_training = np.asarray(poisoned_arm_attacker_training[poisoned_arm_attacker_training.columns[-1]])"
   ],
   "metadata": {
    "collapsed": false
   }
  },
  {
   "cell_type": "markdown",
   "source": [
    "### Models"
   ],
   "metadata": {
    "collapsed": false
   }
  },
  {
   "cell_type": "markdown",
   "source": [
    "#### Attacker model"
   ],
   "metadata": {
    "collapsed": false
   }
  },
  {
   "cell_type": "code",
   "execution_count": 92,
   "outputs": [
    {
     "name": "stdout",
     "output_type": "stream",
     "text": [
      "Epoch 1/10\n",
      "51/51 [==============================] - 0s 3ms/step - loss: 0.6523 - binary_accuracy: 0.6516 - val_loss: 0.4792 - val_binary_accuracy: 0.7550\n",
      "Epoch 2/10\n",
      "51/51 [==============================] - 0s 2ms/step - loss: 0.4058 - binary_accuracy: 0.8422 - val_loss: 0.3847 - val_binary_accuracy: 0.8750\n",
      "Epoch 3/10\n",
      "51/51 [==============================] - 0s 2ms/step - loss: 0.3014 - binary_accuracy: 0.8969 - val_loss: 0.2731 - val_binary_accuracy: 0.9200\n",
      "Epoch 4/10\n",
      "51/51 [==============================] - 0s 2ms/step - loss: 0.2399 - binary_accuracy: 0.9174 - val_loss: 0.2294 - val_binary_accuracy: 0.9300\n",
      "Epoch 5/10\n",
      "51/51 [==============================] - 0s 2ms/step - loss: 0.1993 - binary_accuracy: 0.9391 - val_loss: 0.2004 - val_binary_accuracy: 0.9550\n",
      "Epoch 6/10\n",
      "51/51 [==============================] - 0s 2ms/step - loss: 0.1736 - binary_accuracy: 0.9497 - val_loss: 0.1885 - val_binary_accuracy: 0.9550\n",
      "Epoch 7/10\n",
      "51/51 [==============================] - 0s 2ms/step - loss: 0.1530 - binary_accuracy: 0.9602 - val_loss: 0.1688 - val_binary_accuracy: 0.9600\n",
      "Epoch 8/10\n",
      "51/51 [==============================] - 0s 1ms/step - loss: 0.1334 - binary_accuracy: 0.9689 - val_loss: 0.1465 - val_binary_accuracy: 0.9700\n",
      "Epoch 9/10\n",
      "51/51 [==============================] - 0s 1ms/step - loss: 0.1211 - binary_accuracy: 0.9696 - val_loss: 0.1399 - val_binary_accuracy: 0.9600\n",
      "Epoch 10/10\n",
      "51/51 [==============================] - 0s 1ms/step - loss: 0.1099 - binary_accuracy: 0.9689 - val_loss: 0.1318 - val_binary_accuracy: 0.9600\n",
      "7/7 [==============================] - 0s 1000us/step - loss: 0.1498 - binary_accuracy: 0.9500\n"
     ]
    },
    {
     "data": {
      "text/plain": "[0.14977072179317474, 0.949999988079071]"
     },
     "execution_count": 92,
     "metadata": {},
     "output_type": "execute_result"
    }
   ],
   "source": [
    "model_attacker = keras.Sequential(\n",
    "    [\n",
    "        layers.Dense(1, input_shape=(131,), activation=\"sigmoid\")\n",
    "    ]\n",
    ")\n",
    "model_attacker.compile(loss=tf.keras.losses.BinaryCrossentropy(),\n",
    "                    metrics=[tf.keras.metrics.BinaryAccuracy()])\n",
    "model_attacker.fit(dataset_poisoned_arm_attacker_training, labels_poisoned_arm_attacker_training, epochs=10,\n",
    "                validation_data=(dataset_arm_attacker_validation, labels_arm_attacker_validation))\n",
    "\n",
    "model_attacker.evaluate(dataset_arm_attacker_test, labels_arm_attacker_test)"
   ],
   "metadata": {
    "collapsed": false
   }
  }
 ],
 "metadata": {
  "kernelspec": {
   "display_name": "Python 3",
   "language": "python",
   "name": "python3"
  },
  "language_info": {
   "codemirror_mode": {
    "name": "ipython",
    "version": 2
   },
   "file_extension": ".py",
   "mimetype": "text/x-python",
   "name": "python",
   "nbconvert_exporter": "python",
   "pygments_lexer": "ipython2",
   "version": "2.7.6"
  }
 },
 "nbformat": 4,
 "nbformat_minor": 0
}
