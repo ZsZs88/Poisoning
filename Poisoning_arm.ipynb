{
 "cells": [
  {
   "cell_type": "markdown",
   "source": [
    "# Machine Learning Poisonong Attacks in Malware Detection"
   ],
   "metadata": {
    "collapsed": false
   }
  },
  {
   "cell_type": "markdown",
   "source": [
    "## Prestart\n",
    "### Import libraries"
   ],
   "metadata": {
    "collapsed": false
   }
  },
  {
   "cell_type": "code",
   "execution_count": 22,
   "outputs": [],
   "source": [
    "import csv\n",
    "\n",
    "import pandas as pd\n",
    "import numpy as np\n",
    "import tensorflow as tf\n",
    "from tensorflow import keras\n",
    "from keras import layers\n",
    "\n",
    "\n",
    "import filenames"
   ],
   "metadata": {
    "collapsed": false
   }
  },
  {
   "cell_type": "markdown",
   "source": [
    "## Creating the arm dataset\n",
    "$ 8:1:1 $ - Training:Test:Validation"
   ],
   "metadata": {
    "collapsed": false
   }
  },
  {
   "cell_type": "markdown",
   "source": [
    "#### Reading in\n",
    "In this state the csv contains the filename and the label"
   ],
   "metadata": {
    "collapsed": false
   }
  },
  {
   "cell_type": "code",
   "execution_count": 23,
   "outputs": [],
   "source": [
    "arm_training = pd.read_csv(filenames.arm_training, header=None, index_col=False)\n",
    "arm_validation = pd.read_csv(filenames.arm_validation, header=None, index_col=False)\n",
    "arm_test = pd.read_csv(filenames.arm_test, header=None, index_col=False)"
   ],
   "metadata": {
    "collapsed": false
   }
  },
  {
   "cell_type": "markdown",
   "source": [
    "#### Dataset\n",
    "Creating the pure dataset, only features"
   ],
   "metadata": {
    "collapsed": false
   }
  },
  {
   "cell_type": "code",
   "execution_count": 28,
   "outputs": [
    {
     "name": "stdout",
     "output_type": "stream",
     "text": [
      "[[ 99  15   9 ...   1   1   2]\n",
      " [ 18   7   3 ...   2   2   3]\n",
      " [227   1  10 ...   1   0   0]\n",
      " ...\n",
      " [ 97   0  13 ...   0   3   2]\n",
      " [210  14   0 ...   0   2   2]\n",
      " [244   3   9 ...   0   0   1]]\n",
      "[[0.9636206  0.14600312 0.08760187 ... 0.00973354 0.00973354 0.01946708]\n",
      " [0.62592133 0.24341385 0.10432022 ... 0.06954681 0.06954681 0.10432022]\n",
      " [0.99472465 0.00438205 0.04382047 ... 0.00438205 0.         0.        ]\n",
      " ...\n",
      " [0.97014553 0.         0.1300195  ... 0.         0.0300045  0.020003  ]\n",
      " [0.99293277 0.06619552 0.         ... 0.         0.0094565  0.0094565 ]\n",
      " [0.99551212 0.0122399  0.03671971 ... 0.         0.         0.00407997]]\n"
     ]
    }
   ],
   "source": [
    "dataset_arm_training = np.asarray(arm_training.drop(columns=arm_training.columns[-2:]))\n",
    "dataset_arm_validation = np.asarray(arm_validation.drop(columns=arm_validation.columns[-2:]))\n",
    "dataset_arm_test = np.asarray(arm_test.drop(columns=arm_test.columns[-2:]))"
   ],
   "metadata": {
    "collapsed": false
   }
  },
  {
   "cell_type": "markdown",
   "source": [
    "#### Labels for the datasets\n",
    "Creating the labels for the datasets\n",
    "*Malware* - $ 0 $, *Benign* - $ 1 $\n",
    "-**Trainining**: 800 malware, 800 benign\n",
    "-**Validation**: 100 malware, 100 benign\n",
    "-**Test**: 100 malware, 100 benign"
   ],
   "metadata": {
    "collapsed": false
   }
  },
  {
   "cell_type": "code",
   "execution_count": null,
   "outputs": [],
   "source": [
    "labels_arm_training = np.asarray(arm_training[arm_training.columns[-1]])\n",
    "labels_arm_validation = np.asarray(arm_validation[arm_validation.columns[-1]])\n",
    "labels_arm_test = np.asarray(arm_test[arm_test.columns[-1]])"
   ],
   "metadata": {
    "collapsed": false
   }
  },
  {
   "cell_type": "markdown",
   "source": [
    "#### Filenames\n",
    "Getting the filenames separated just for the fun of it"
   ],
   "metadata": {
    "collapsed": false
   }
  },
  {
   "cell_type": "code",
   "execution_count": null,
   "outputs": [],
   "source": [
    "names_arm_training = arm_training[arm_training.columns[-2]]\n",
    "names_arm_validation = arm_validation[arm_validation.columns[-2]]\n",
    "names_arm_test = arm_test[arm_test.columns[-2]]"
   ],
   "metadata": {
    "collapsed": false
   }
  },
  {
   "cell_type": "markdown",
   "source": [
    "#### Generate"
   ],
   "metadata": {
    "collapsed": false
   }
  },
  {
   "cell_type": "markdown",
   "source": [
    "## Models for arm Datasets\n",
    "In this section we will build the models with the exact same struture\n",
    "Neural network with one *hidden layer* with a $sigmoid$ *activation function*"
   ],
   "metadata": {
    "collapsed": false
   }
  },
  {
   "cell_type": "markdown",
   "source": [
    "### Model\n",
    "Building, fitting and evaluating the Model with the datasets"
   ],
   "metadata": {
    "collapsed": false
   }
  },
  {
   "cell_type": "code",
   "execution_count": null,
   "outputs": [],
   "source": [
    "base_model = keras.Sequential(\n",
    "    [\n",
    "        layers.Dense(1, input_shape=(131,), activation=\"sigmoid\")\n",
    "    ]\n",
    ")\n",
    "base_model.compile(loss=tf.keras.losses.BinaryCrossentropy(),\n",
    "                    metrics=[tf.keras.metrics.BinaryAccuracy()],\n",
    "                   run_eagerly=True)\n",
    "base_model.fit(dataset_arm_training, labels_arm_training, epochs=10,\n",
    "                validation_data=(dataset_arm_validation, labels_arm_validation))\n",
    "#\n",
    "# weights = base_model.get_weights()\n",
    "# print(\"weights: \", weights)\n",
    "\n",
    "[_,binary_accuracy_base] = base_model.evaluate(dataset_arm_test, labels_arm_test)\n",
    "print(binary_accuracy_base)\n",
    "base_model.save(filenames.base_model)"
   ],
   "metadata": {
    "collapsed": false
   }
  },
  {
   "cell_type": "code",
   "execution_count": null,
   "outputs": [],
   "source": [
    "df_arm_malware_forpoison = pd.read_csv(filenames.forpoison_arm_malware, header=None, index_col=False)\n",
    "df_arm_malware_forpoison = df_arm_malware_forpoison.drop(columns=df_arm_malware_forpoison.columns[-2:])\n",
    "topredict = np.asarray([df_arm_malware_forpoison.iloc[0],])\n",
    "print(topredict)"
   ],
   "metadata": {
    "collapsed": false
   }
  },
  {
   "cell_type": "code",
   "execution_count": null,
   "outputs": [],
   "source": [
    "[[predict_base]] = base_model.predict(topredict)\n",
    "print(predict_base)"
   ],
   "metadata": {
    "collapsed": false
   }
  },
  {
   "cell_type": "markdown",
   "source": [
    "## POISON IT"
   ],
   "metadata": {
    "collapsed": false
   }
  },
  {
   "cell_type": "markdown",
   "source": [
    "### Files"
   ],
   "metadata": {
    "collapsed": false
   }
  },
  {
   "cell_type": "code",
   "execution_count": null,
   "outputs": [],
   "source": [
    "file_poison_arm_BM = \"files\\\\poison_data\\\\iterative\\\\poisoned_benign_malware_1000.csv\"\n",
    "#file_poison_arm_MB = \"files\\\\poison_data\\\\poisoned_malware_benign.csv\""
   ],
   "metadata": {
    "collapsed": false
   }
  },
  {
   "cell_type": "markdown",
   "source": [
    "### Poisoned Dataset"
   ],
   "metadata": {
    "collapsed": false
   }
  },
  {
   "cell_type": "code",
   "execution_count": null,
   "outputs": [],
   "source": [
    "poisoned_arm_training = pd.read_csv(file_poison_arm_BM, index_col=False, header=None)\n",
    "poisoned_arm_training_base = poisoned_arm_training.sample(frac=0.05)\n",
    "poisoned_arm_training_new = arm_training.append(poisoned_arm_training, ignore_index=True).sample(frac=1)\n",
    "dataset_poisoned_arm_training_base = np.asarray(poisoned_arm_training_base.drop(columns=poisoned_arm_training_base.columns[-2:]))\n",
    "dataset_poisoned_arm_training_new = np.asarray(poisoned_arm_training_new.drop(columns=poisoned_arm_training_new.columns[-2:]))\n",
    "labels_poisoned_arm_training_base = np.asarray(poisoned_arm_training_base[poisoned_arm_training_base.columns[-1]])\n",
    "labels_poisoned_arm_training_new = np.asarray(poisoned_arm_training_new[poisoned_arm_training_new.columns[-1]])"
   ],
   "metadata": {
    "collapsed": false
   }
  },
  {
   "cell_type": "markdown",
   "source": [
    "### Model"
   ],
   "metadata": {
    "collapsed": false
   }
  },
  {
   "cell_type": "markdown",
   "source": [
    "#### Append model\n",
    "Base model trained with the poisoned data"
   ],
   "metadata": {
    "collapsed": false
   }
  },
  {
   "cell_type": "code",
   "execution_count": null,
   "outputs": [],
   "source": [
    "base_model = keras.models.load_model(filenames.base_model)\n",
    "base_model.fit(dataset_poisoned_arm_training_base, labels_poisoned_arm_training_base, epochs=10,\n",
    "                validation_data=(dataset_arm_validation, labels_arm_validation))\n",
    "[_, binary_accuracy_appended] = base_model.evaluate(dataset_arm_test, labels_arm_test)\n",
    "print(binary_accuracy_appended)\n",
    "base_model.save(filenames.modified_model)"
   ],
   "metadata": {
    "collapsed": false
   }
  },
  {
   "cell_type": "code",
   "execution_count": null,
   "outputs": [],
   "source": [
    "[[predict_appended]] = base_model.predict(topredict)\n",
    "print(predict_appended)"
   ],
   "metadata": {
    "collapsed": false
   }
  },
  {
   "cell_type": "markdown",
   "source": [
    "#### New model\n",
    "Newly trained model, with all training data + poisoned data"
   ],
   "metadata": {
    "collapsed": false
   }
  },
  {
   "cell_type": "code",
   "execution_count": null,
   "outputs": [],
   "source": [
    "poison_model = keras.Sequential(\n",
    "    [\n",
    "        layers.Dense(1, input_shape=(131,), activation=\"sigmoid\")\n",
    "    ]\n",
    ")\n",
    "poison_model.compile(loss=tf.keras.losses.BinaryCrossentropy(),\n",
    "                    metrics=[tf.keras.metrics.BinaryAccuracy()])\n",
    "poison_model.fit(dataset_poisoned_arm_training_new, labels_poisoned_arm_training_new, epochs=10,\n",
    "                validation_data=(dataset_arm_validation, labels_arm_validation))\n",
    "[_, binary_accuracy_new] = poison_model.evaluate(dataset_arm_test, labels_arm_test)\n",
    "print(binary_accuracy_appended)\n",
    "poison_model.save(filenames.poison_model)"
   ],
   "metadata": {
    "collapsed": false
   }
  },
  {
   "cell_type": "code",
   "execution_count": null,
   "outputs": [],
   "source": [
    "[[predict_new]] = poison_model.predict(topredict)\n",
    "print(predict_new)"
   ],
   "metadata": {
    "collapsed": false
   }
  },
  {
   "cell_type": "code",
   "execution_count": null,
   "outputs": [],
   "source": [
    "results = [file_poison_arm_BM.split(\"_\")[-1].split(\".\")[0],\n",
    "           binary_accuracy_base,\n",
    "           predict_base,\n",
    "           binary_accuracy_appended,\n",
    "           predict_appended,\n",
    "           binary_accuracy_new,\n",
    "           predict_new]\n",
    "print(results)\n",
    "with open(filenames.results, \"a\") as f:\n",
    "    csv_writer = csv.writer(f, lineterminator=\"\\n\")\n",
    "    csv_writer.writerow(results)"
   ],
   "metadata": {
    "collapsed": false
   }
  }
 ],
 "metadata": {
  "kernelspec": {
   "display_name": "Python 3",
   "language": "python",
   "name": "python3"
  },
  "language_info": {
   "codemirror_mode": {
    "name": "ipython",
    "version": 2
   },
   "file_extension": ".py",
   "mimetype": "text/x-python",
   "name": "python",
   "nbconvert_exporter": "python",
   "pygments_lexer": "ipython2",
   "version": "2.7.6"
  }
 },
 "nbformat": 4,
 "nbformat_minor": 0
}
