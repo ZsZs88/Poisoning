{
 "cells": [
  {
   "cell_type": "markdown",
   "source": [
    "# Machine Learning Poisonong Attacks in Malware Detection"
   ],
   "metadata": {
    "collapsed": false
   }
  },
  {
   "cell_type": "markdown",
   "source": [
    "## Prestart\n",
    "### Import libraries"
   ],
   "metadata": {
    "collapsed": false
   }
  },
  {
   "cell_type": "code",
   "execution_count": 1,
   "outputs": [],
   "source": [
    "import csv\n",
    "\n",
    "import pandas as pd\n",
    "import numpy as np\n",
    "import tensorflow as tf\n",
    "from tensorflow import keras\n",
    "from keras import layers"
   ],
   "metadata": {
    "collapsed": false
   }
  },
  {
   "cell_type": "markdown",
   "source": [
    "### Files\n",
    "Store the paths for our files in variables"
   ],
   "metadata": {
    "collapsed": false
   }
  },
  {
   "cell_type": "code",
   "execution_count": 2,
   "outputs": [],
   "source": [
    "file_arm_training = \"files\\\\arm_datasets\\\\arm_training.csv\"\n",
    "file_arm_validation = \"files\\\\arm_datasets\\\\arm_validation.csv\"\n",
    "file_arm_test = \"files\\\\arm_datasets\\\\arm_test.csv\""
   ],
   "metadata": {
    "collapsed": false
   }
  },
  {
   "cell_type": "markdown",
   "source": [
    "## Creating the arm dataset\n",
    "$ 8:1:1 $ - Training:Test:Validation"
   ],
   "metadata": {
    "collapsed": false
   }
  },
  {
   "cell_type": "markdown",
   "source": [
    "#### Reading in\n",
    "In this state the csv contains the filename and the label"
   ],
   "metadata": {
    "collapsed": false
   }
  },
  {
   "cell_type": "code",
   "execution_count": 3,
   "outputs": [],
   "source": [
    "arm_training = pd.read_csv(file_arm_training, header=None, index_col=False)\n",
    "arm_validation = pd.read_csv(file_arm_validation, header=None, index_col=False)\n",
    "arm_test = pd.read_csv(file_arm_test, header=None, index_col=False)"
   ],
   "metadata": {
    "collapsed": false
   }
  },
  {
   "cell_type": "markdown",
   "source": [
    "#### Dataset\n",
    "Creating the pure dataset, only features"
   ],
   "metadata": {
    "collapsed": false
   }
  },
  {
   "cell_type": "code",
   "execution_count": 4,
   "outputs": [],
   "source": [
    "dataset_arm_training = np.asarray(arm_training.drop(columns=arm_training.columns[-2:]))\n",
    "dataset_arm_validation = np.asarray(arm_validation.drop(columns=arm_validation.columns[-2:]))\n",
    "dataset_arm_test = np.asarray(arm_test.drop(columns=arm_test.columns[-2:]))"
   ],
   "metadata": {
    "collapsed": false
   }
  },
  {
   "cell_type": "markdown",
   "source": [
    "#### Labels for the datasets\n",
    "Creating the labels for the datasets\n",
    "*Malware* - $ 0 $, *Benign* - $ 1 $\n",
    "-**Trainining**: 800 malware, 800 benign\n",
    "-**Validation**: 100 malware, 100 benign\n",
    "-**Test**: 100 malware, 100 benign"
   ],
   "metadata": {
    "collapsed": false
   }
  },
  {
   "cell_type": "code",
   "execution_count": 5,
   "outputs": [],
   "source": [
    "labels_arm_training = np.asarray(arm_training[arm_training.columns[-1]])\n",
    "labels_arm_validation = np.asarray(arm_validation[arm_validation.columns[-1]])\n",
    "labels_arm_test = np.asarray(arm_test[arm_test.columns[-1]])"
   ],
   "metadata": {
    "collapsed": false
   }
  },
  {
   "cell_type": "markdown",
   "source": [
    "#### Filenames\n",
    "Getting the filenames separated just for the fun of it"
   ],
   "metadata": {
    "collapsed": false
   }
  },
  {
   "cell_type": "code",
   "execution_count": 6,
   "outputs": [],
   "source": [
    "names_arm_training = arm_training[arm_training.columns[-2]]\n",
    "names_arm_validation = arm_validation[arm_validation.columns[-2]]\n",
    "names_arm_test = arm_test[arm_test.columns[-2]]"
   ],
   "metadata": {
    "collapsed": false
   }
  },
  {
   "cell_type": "markdown",
   "source": [
    "#### Generate"
   ],
   "metadata": {
    "collapsed": false
   }
  },
  {
   "cell_type": "markdown",
   "source": [
    "## Models for arm Datasets\n",
    "In this section we will build the models with the exact same struture\n",
    "Neural network with one *hidden layer* with a $sigmoid$ *activation function*"
   ],
   "metadata": {
    "collapsed": false
   }
  },
  {
   "cell_type": "markdown",
   "source": [
    "### Model\n",
    "Building, fitting and evaluating the Model with the datasets"
   ],
   "metadata": {
    "collapsed": false
   }
  },
  {
   "cell_type": "code",
   "execution_count": 7,
   "outputs": [
    {
     "name": "stdout",
     "output_type": "stream",
     "text": [
      "Epoch 1/10\n",
      "90/90 [==============================] - 2s 17ms/step - loss: 0.5338 - binary_accuracy: 0.7677 - val_loss: 0.3638 - val_binary_accuracy: 0.8361\n",
      "Epoch 2/10\n",
      "90/90 [==============================] - 1s 16ms/step - loss: 0.3142 - binary_accuracy: 0.8774 - val_loss: 0.2420 - val_binary_accuracy: 0.9111\n",
      "Epoch 3/10\n",
      "90/90 [==============================] - 1s 15ms/step - loss: 0.2277 - binary_accuracy: 0.9215 - val_loss: 0.1753 - val_binary_accuracy: 0.9556\n",
      "Epoch 4/10\n",
      "90/90 [==============================] - 1s 16ms/step - loss: 0.1743 - binary_accuracy: 0.9448 - val_loss: 0.1364 - val_binary_accuracy: 0.9639\n",
      "Epoch 5/10\n",
      "90/90 [==============================] - 1s 16ms/step - loss: 0.1386 - binary_accuracy: 0.9580 - val_loss: 0.1202 - val_binary_accuracy: 0.9639\n",
      "Epoch 6/10\n",
      "90/90 [==============================] - 1s 15ms/step - loss: 0.1145 - binary_accuracy: 0.9677 - val_loss: 0.1011 - val_binary_accuracy: 0.9611\n",
      "Epoch 7/10\n",
      "90/90 [==============================] - 1s 15ms/step - loss: 0.0986 - binary_accuracy: 0.9722 - val_loss: 0.0876 - val_binary_accuracy: 0.9694\n",
      "Epoch 8/10\n",
      "90/90 [==============================] - 1s 15ms/step - loss: 0.0857 - binary_accuracy: 0.9778 - val_loss: 0.0888 - val_binary_accuracy: 0.9639\n",
      "Epoch 9/10\n",
      "90/90 [==============================] - 1s 15ms/step - loss: 0.0762 - binary_accuracy: 0.9837 - val_loss: 0.0872 - val_binary_accuracy: 0.9583\n",
      "Epoch 10/10\n",
      "90/90 [==============================] - 1s 15ms/step - loss: 0.0687 - binary_accuracy: 0.9840 - val_loss: 0.0725 - val_binary_accuracy: 0.9833\n",
      "weights:  [array([[-3.15496465e-03],\n",
      "       [ 7.62875611e-03],\n",
      "       [ 2.06429767e-03],\n",
      "       [ 2.29038700e-01],\n",
      "       [ 2.48572100e-02],\n",
      "       [ 3.53671730e-01],\n",
      "       [ 2.89823383e-01],\n",
      "       [ 1.09943762e-01],\n",
      "       [ 6.26035482e-02],\n",
      "       [ 4.04426688e-03],\n",
      "       [-1.71043471e-01],\n",
      "       [-1.99176356e-01],\n",
      "       [ 2.12940965e-02],\n",
      "       [ 8.00802186e-02],\n",
      "       [ 2.38971293e-01],\n",
      "       [-6.88804910e-02],\n",
      "       [-1.06205516e-01],\n",
      "       [-1.32855132e-01],\n",
      "       [ 9.19404104e-02],\n",
      "       [ 2.83191085e-01],\n",
      "       [ 1.62535578e-01],\n",
      "       [ 5.08078396e-01],\n",
      "       [ 3.92034985e-02],\n",
      "       [-5.08300848e-02],\n",
      "       [-2.04617918e-01],\n",
      "       [ 1.13875084e-01],\n",
      "       [-3.18594456e-01],\n",
      "       [ 1.51515201e-01],\n",
      "       [-4.42191780e-01],\n",
      "       [-4.98126782e-02],\n",
      "       [-1.21764362e-01],\n",
      "       [ 3.71846586e-01],\n",
      "       [-9.81989279e-02],\n",
      "       [-8.77242014e-02],\n",
      "       [ 5.05025685e-02],\n",
      "       [-9.94724184e-02],\n",
      "       [-8.36675838e-02],\n",
      "       [-5.84358908e-02],\n",
      "       [-2.42861569e-01],\n",
      "       [-1.96316540e-01],\n",
      "       [-3.63168530e-02],\n",
      "       [-1.16252623e-01],\n",
      "       [ 2.30019093e-01],\n",
      "       [ 1.02903843e-01],\n",
      "       [-1.08420305e-01],\n",
      "       [-1.77453846e-01],\n",
      "       [-5.33006638e-02],\n",
      "       [ 2.43093848e-01],\n",
      "       [-1.16650157e-01],\n",
      "       [ 6.47449255e-01],\n",
      "       [ 4.98541534e-01],\n",
      "       [-9.34287459e-02],\n",
      "       [ 2.95322508e-01],\n",
      "       [-1.92250982e-01],\n",
      "       [-9.03748199e-02],\n",
      "       [ 1.21104941e-01],\n",
      "       [ 5.87153211e-02],\n",
      "       [-2.19285741e-01],\n",
      "       [-4.48250882e-02],\n",
      "       [-2.16663629e-01],\n",
      "       [ 3.37416641e-02],\n",
      "       [-2.22847953e-01],\n",
      "       [ 1.49579672e-02],\n",
      "       [-6.47274917e-03],\n",
      "       [-8.31967890e-02],\n",
      "       [ 7.21783116e-02],\n",
      "       [-4.36818711e-02],\n",
      "       [ 2.08563462e-01],\n",
      "       [ 1.27894402e-01],\n",
      "       [-1.71517462e-01],\n",
      "       [ 1.81583211e-01],\n",
      "       [ 7.32735023e-02],\n",
      "       [ 7.11386884e-03],\n",
      "       [ 1.34157598e-01],\n",
      "       [ 6.76021576e-02],\n",
      "       [ 7.06092492e-02],\n",
      "       [-1.05633438e-01],\n",
      "       [-9.30154398e-02],\n",
      "       [ 5.63225010e-03],\n",
      "       [-9.14912969e-02],\n",
      "       [-4.16184038e-01],\n",
      "       [ 1.70662478e-01],\n",
      "       [-1.13031067e-01],\n",
      "       [-1.92386180e-01],\n",
      "       [-2.94217225e-02],\n",
      "       [-6.90545216e-02],\n",
      "       [ 2.90615946e-01],\n",
      "       [ 2.65833940e-02],\n",
      "       [ 1.42966554e-01],\n",
      "       [-2.44812399e-01],\n",
      "       [-4.02018055e-02],\n",
      "       [ 2.01019466e-01],\n",
      "       [-2.93020725e-01],\n",
      "       [ 2.65829802e-01],\n",
      "       [ 1.44279373e-04],\n",
      "       [ 3.77419680e-01],\n",
      "       [-1.42911807e-01],\n",
      "       [-5.88236213e-01],\n",
      "       [-6.90202415e-02],\n",
      "       [-3.24458897e-01],\n",
      "       [ 1.04903594e-01],\n",
      "       [ 1.70593902e-01],\n",
      "       [ 2.75613517e-01],\n",
      "       [ 3.51292230e-02],\n",
      "       [ 2.87203848e-01],\n",
      "       [ 9.87856276e-03],\n",
      "       [-2.73696519e-02],\n",
      "       [-2.23437577e-01],\n",
      "       [ 2.92901576e-01],\n",
      "       [ 5.62436320e-02],\n",
      "       [ 7.88312312e-03],\n",
      "       [ 1.55021280e-01],\n",
      "       [-8.03367868e-02],\n",
      "       [ 5.48968576e-02],\n",
      "       [ 2.15849295e-01],\n",
      "       [ 1.73631106e-02],\n",
      "       [-4.15533110e-02],\n",
      "       [ 2.31980219e-01],\n",
      "       [-1.79956127e-02],\n",
      "       [ 1.71943709e-01],\n",
      "       [-1.37218803e-01],\n",
      "       [-4.27273482e-01],\n",
      "       [ 8.73448327e-02],\n",
      "       [ 1.41365943e-03],\n",
      "       [-1.09664872e-01],\n",
      "       [ 2.01241598e-01],\n",
      "       [ 4.95960712e-02],\n",
      "       [ 5.82451820e-02],\n",
      "       [-1.90754652e-01],\n",
      "       [-1.09725222e-01],\n",
      "       [-1.18696064e-01]], dtype=float32), array([-0.02740697], dtype=float32)]\n",
      "12/12 [==============================] - 0s 7ms/step - loss: 0.0780 - binary_accuracy: 0.9778\n",
      "0.9777777791023254\n",
      "INFO:tensorflow:Assets written to: models\\base_model\\assets\n"
     ]
    }
   ],
   "source": [
    "base_model = keras.Sequential(\n",
    "    [\n",
    "        layers.Dense(1, input_shape=(131,), activation=\"sigmoid\")\n",
    "    ]\n",
    ")\n",
    "base_model.compile(loss=tf.keras.losses.BinaryCrossentropy(),\n",
    "                    metrics=[tf.keras.metrics.BinaryAccuracy()],\n",
    "                   run_eagerly=True)\n",
    "base_model.fit(dataset_arm_training, labels_arm_training, epochs=10,\n",
    "                validation_data=(dataset_arm_validation, labels_arm_validation))\n",
    "\n",
    "weights = base_model.get_weights()\n",
    "print(\"weights: \", weights)\n",
    "\n",
    "[_,binary_accuracy_base] = base_model.evaluate(dataset_arm_test, labels_arm_test)\n",
    "print(binary_accuracy_base)\n",
    "base_model.save(\"models\\\\base_model\")"
   ],
   "metadata": {
    "collapsed": false
   }
  },
  {
   "cell_type": "code",
   "execution_count": 8,
   "outputs": [
    {
     "name": "stdout",
     "output_type": "stream",
     "text": [
      "[[210  14   1   3   1   0   0   1   1   2   0   2   2   2   2   3   3   2\n",
      "    1   1   1   1   2   3   0   0   2   0   3   0   0   2   0   2   0   0\n",
      "    3   1   2   3   2   3   3   0   3   3   2   3   1   2   2   3   0   1\n",
      "    3   0   3   2   3   1   3   1   3   3   1   1   3   2   3   1   1   2\n",
      "    3   0   1   3   1   1   3   2   2   1   2   0   2   0   2   2   0   2\n",
      "    2   1   2   0   0   1   0   0   0   1   3   3   2   2   1   1   2   3\n",
      "    0   2   2   1   0   0   0   3   1   0   0   0   0   2   3   1   1   0\n",
      "    3   1   1   0   3]]\n"
     ]
    }
   ],
   "source": [
    "df_arm_malware_forpoison = pd.read_csv(\"files\\\\poison_data\\\\arm_malware_forpoison.csv\", header=None, index_col=False)\n",
    "df_arm_malware_forpoison = df_arm_malware_forpoison.drop(columns=df_arm_malware_forpoison.columns[-2:])\n",
    "topredict = np.asarray([df_arm_malware_forpoison.iloc[0],])\n",
    "print(topredict)"
   ],
   "metadata": {
    "collapsed": false
   }
  },
  {
   "cell_type": "code",
   "execution_count": 9,
   "outputs": [
    {
     "name": "stdout",
     "output_type": "stream",
     "text": [
      "1/1 [==============================] - 0s 24ms/step\n",
      "0.19168939\n"
     ]
    }
   ],
   "source": [
    "[[predict_base]] = base_model.predict(topredict)\n",
    "print(predict_base)"
   ],
   "metadata": {
    "collapsed": false
   }
  },
  {
   "cell_type": "markdown",
   "source": [
    "## POISON IT"
   ],
   "metadata": {
    "collapsed": false
   }
  },
  {
   "cell_type": "markdown",
   "source": [
    "### Files"
   ],
   "metadata": {
    "collapsed": false
   }
  },
  {
   "cell_type": "code",
   "execution_count": 10,
   "outputs": [],
   "source": [
    "file_poison_arm_BM = \"files\\\\poison_data\\\\iterative\\\\poisoned_benign_malware_1000.csv\"\n",
    "#file_poison_arm_MB = \"files\\\\poison_data\\\\poisoned_malware_benign.csv\""
   ],
   "metadata": {
    "collapsed": false
   }
  },
  {
   "cell_type": "markdown",
   "source": [
    "### Poisoned Dataset"
   ],
   "metadata": {
    "collapsed": false
   }
  },
  {
   "cell_type": "code",
   "execution_count": 11,
   "outputs": [
    {
     "name": "stderr",
     "output_type": "stream",
     "text": [
      "C:\\Users\\ZsZs\\AppData\\Local\\Temp\\ipykernel_18476\\393682067.py:3: FutureWarning: The frame.append method is deprecated and will be removed from pandas in a future version. Use pandas.concat instead.\n",
      "  poisoned_arm_training_new = arm_training.append(poisoned_arm_training, ignore_index=True).sample(frac=1)\n"
     ]
    }
   ],
   "source": [
    "poisoned_arm_training = pd.read_csv(file_poison_arm_BM, index_col=False, header=None)\n",
    "poisoned_arm_training_base = poisoned_arm_training.sample(frac=0.05)\n",
    "poisoned_arm_training_new = arm_training.append(poisoned_arm_training, ignore_index=True).sample(frac=1)\n",
    "dataset_poisoned_arm_training_base = np.asarray(poisoned_arm_training_base.drop(columns=poisoned_arm_training_base.columns[-2:]))\n",
    "dataset_poisoned_arm_training_new = np.asarray(poisoned_arm_training_new.drop(columns=poisoned_arm_training_new.columns[-2:]))\n",
    "labels_poisoned_arm_training_base = np.asarray(poisoned_arm_training_base[poisoned_arm_training_base.columns[-1]])\n",
    "labels_poisoned_arm_training_new = np.asarray(poisoned_arm_training_new[poisoned_arm_training_new.columns[-1]])"
   ],
   "metadata": {
    "collapsed": false
   }
  },
  {
   "cell_type": "markdown",
   "source": [
    "### Model"
   ],
   "metadata": {
    "collapsed": false
   }
  },
  {
   "cell_type": "markdown",
   "source": [
    "#### Append model\n",
    "Base model trained with the poisoned data"
   ],
   "metadata": {
    "collapsed": false
   }
  },
  {
   "cell_type": "code",
   "execution_count": 12,
   "outputs": [
    {
     "name": "stdout",
     "output_type": "stream",
     "text": [
      "Epoch 1/10\n",
      "1/1 [==============================] - 1s 698ms/step - loss: 0.0495 - binary_accuracy: 1.0000 - val_loss: 0.1156 - val_binary_accuracy: 0.9556\n",
      "Epoch 2/10\n",
      "1/1 [==============================] - 0s 42ms/step - loss: 0.0150 - binary_accuracy: 1.0000 - val_loss: 0.1415 - val_binary_accuracy: 0.9500\n",
      "Epoch 3/10\n",
      "1/1 [==============================] - 0s 48ms/step - loss: 0.0102 - binary_accuracy: 1.0000 - val_loss: 0.1641 - val_binary_accuracy: 0.9417\n",
      "Epoch 4/10\n",
      "1/1 [==============================] - 0s 48ms/step - loss: 0.0078 - binary_accuracy: 1.0000 - val_loss: 0.1848 - val_binary_accuracy: 0.9333\n",
      "Epoch 5/10\n",
      "1/1 [==============================] - 0s 45ms/step - loss: 0.0063 - binary_accuracy: 1.0000 - val_loss: 0.2043 - val_binary_accuracy: 0.9250\n",
      "Epoch 6/10\n",
      "1/1 [==============================] - 0s 53ms/step - loss: 0.0053 - binary_accuracy: 1.0000 - val_loss: 0.2228 - val_binary_accuracy: 0.9139\n",
      "Epoch 7/10\n",
      "1/1 [==============================] - 0s 40ms/step - loss: 0.0045 - binary_accuracy: 1.0000 - val_loss: 0.2407 - val_binary_accuracy: 0.8944\n",
      "Epoch 8/10\n",
      "1/1 [==============================] - 0s 41ms/step - loss: 0.0039 - binary_accuracy: 1.0000 - val_loss: 0.2581 - val_binary_accuracy: 0.8833\n",
      "Epoch 9/10\n",
      "1/1 [==============================] - 0s 48ms/step - loss: 0.0034 - binary_accuracy: 1.0000 - val_loss: 0.2752 - val_binary_accuracy: 0.8750\n",
      "Epoch 10/10\n",
      "1/1 [==============================] - 0s 50ms/step - loss: 0.0030 - binary_accuracy: 1.0000 - val_loss: 0.2919 - val_binary_accuracy: 0.8639\n",
      "12/12 [==============================] - 0s 2ms/step - loss: 0.3381 - binary_accuracy: 0.8444\n",
      "0.8444444537162781\n",
      "INFO:tensorflow:Assets written to: models\\base_model_modified\\assets\n"
     ]
    }
   ],
   "source": [
    "base_model = keras.models.load_model(\"models\\\\base_model\")\n",
    "base_model.fit(dataset_poisoned_arm_training_base, labels_poisoned_arm_training_base, epochs=10,\n",
    "                validation_data=(dataset_arm_validation, labels_arm_validation))\n",
    "[_, binary_accuracy_appended] = base_model.evaluate(dataset_arm_test, labels_arm_test)\n",
    "print(binary_accuracy_appended)\n",
    "base_model.save(\"models\\\\base_model_modified\")"
   ],
   "metadata": {
    "collapsed": false
   }
  },
  {
   "cell_type": "code",
   "execution_count": 13,
   "outputs": [
    {
     "name": "stdout",
     "output_type": "stream",
     "text": [
      "1/1 [==============================] - 0s 79ms/step\n",
      "0.8372544\n"
     ]
    }
   ],
   "source": [
    "[[predict_appended]] = base_model.predict(topredict)\n",
    "print(predict_appended)"
   ],
   "metadata": {
    "collapsed": false
   }
  },
  {
   "cell_type": "markdown",
   "source": [
    "#### New model\n",
    "Newly trained model, with all training data + poisoned data"
   ],
   "metadata": {
    "collapsed": false
   }
  },
  {
   "cell_type": "code",
   "execution_count": 14,
   "outputs": [
    {
     "name": "stdout",
     "output_type": "stream",
     "text": [
      "Epoch 1/10\n",
      "92/92 [==============================] - 1s 3ms/step - loss: 5.2152 - binary_accuracy: 0.5250 - val_loss: 2.7432 - val_binary_accuracy: 0.5250\n",
      "Epoch 2/10\n",
      "92/92 [==============================] - 0s 2ms/step - loss: 1.4513 - binary_accuracy: 0.6390 - val_loss: 0.6115 - val_binary_accuracy: 0.7278\n",
      "Epoch 3/10\n",
      "92/92 [==============================] - 0s 2ms/step - loss: 0.3932 - binary_accuracy: 0.8209 - val_loss: 0.2454 - val_binary_accuracy: 0.9222\n",
      "Epoch 4/10\n",
      "92/92 [==============================] - 0s 2ms/step - loss: 0.2365 - binary_accuracy: 0.9158 - val_loss: 0.1850 - val_binary_accuracy: 0.9250\n",
      "Epoch 5/10\n",
      "92/92 [==============================] - 0s 2ms/step - loss: 0.1727 - binary_accuracy: 0.9517 - val_loss: 0.1342 - val_binary_accuracy: 0.9639\n",
      "Epoch 6/10\n",
      "92/92 [==============================] - 0s 2ms/step - loss: 0.1354 - binary_accuracy: 0.9671 - val_loss: 0.1123 - val_binary_accuracy: 0.9722\n",
      "Epoch 7/10\n",
      "92/92 [==============================] - 0s 2ms/step - loss: 0.1098 - binary_accuracy: 0.9726 - val_loss: 0.0984 - val_binary_accuracy: 0.9722\n",
      "Epoch 8/10\n",
      "92/92 [==============================] - 0s 1ms/step - loss: 0.0932 - binary_accuracy: 0.9788 - val_loss: 0.0874 - val_binary_accuracy: 0.9806\n",
      "Epoch 9/10\n",
      "92/92 [==============================] - 0s 1ms/step - loss: 0.0815 - binary_accuracy: 0.9829 - val_loss: 0.0845 - val_binary_accuracy: 0.9806\n",
      "Epoch 10/10\n",
      "92/92 [==============================] - 0s 2ms/step - loss: 0.0730 - binary_accuracy: 0.9853 - val_loss: 0.0769 - val_binary_accuracy: 0.9806\n",
      "12/12 [==============================] - 0s 1ms/step - loss: 0.0676 - binary_accuracy: 0.9917\n",
      "0.8444444537162781\n",
      "INFO:tensorflow:Assets written to: models\\poison_model\\assets\n"
     ]
    }
   ],
   "source": [
    "poison_model = keras.Sequential(\n",
    "    [\n",
    "        layers.Dense(1, input_shape=(131,), activation=\"sigmoid\")\n",
    "    ]\n",
    ")\n",
    "poison_model.compile(loss=tf.keras.losses.BinaryCrossentropy(),\n",
    "                    metrics=[tf.keras.metrics.BinaryAccuracy()])\n",
    "poison_model.fit(dataset_poisoned_arm_training_new, labels_poisoned_arm_training_new, epochs=10,\n",
    "                validation_data=(dataset_arm_validation, labels_arm_validation))\n",
    "[_, binary_accuracy_new] = poison_model.evaluate(dataset_arm_test, labels_arm_test)\n",
    "print(binary_accuracy_appended)\n",
    "poison_model.save(\"models\\\\poison_model\")"
   ],
   "metadata": {
    "collapsed": false
   }
  },
  {
   "cell_type": "code",
   "execution_count": 15,
   "outputs": [
    {
     "name": "stdout",
     "output_type": "stream",
     "text": [
      "1/1 [==============================] - 0s 35ms/step\n",
      "0.23490192\n"
     ]
    }
   ],
   "source": [
    "[[predict_new]] = poison_model.predict(topredict)\n",
    "print(predict_new)"
   ],
   "metadata": {
    "collapsed": false
   }
  },
  {
   "cell_type": "code",
   "execution_count": 16,
   "outputs": [
    {
     "name": "stdout",
     "output_type": "stream",
     "text": [
      "['1000', 0.9777777791023254, 0.19168939, 0.8444444537162781, 0.8372544, 0.9916666746139526, 0.23490192]\n"
     ]
    }
   ],
   "source": [
    "results = [file_poison_arm_BM.split(\"_\")[-1].split(\".\")[0],\n",
    "           binary_accuracy_base,\n",
    "           predict_base,\n",
    "           binary_accuracy_appended,\n",
    "           predict_appended,\n",
    "           binary_accuracy_new,\n",
    "           predict_new]\n",
    "print(results)\n",
    "with open(\"files\\\\results\\\\results.csv\", \"a\") as f:\n",
    "    csv_writer = csv.writer(f, lineterminator=\"\\n\")\n",
    "    csv_writer.writerow(results)"
   ],
   "metadata": {
    "collapsed": false
   }
  }
 ],
 "metadata": {
  "kernelspec": {
   "display_name": "Python 3",
   "language": "python",
   "name": "python3"
  },
  "language_info": {
   "codemirror_mode": {
    "name": "ipython",
    "version": 2
   },
   "file_extension": ".py",
   "mimetype": "text/x-python",
   "name": "python",
   "nbconvert_exporter": "python",
   "pygments_lexer": "ipython2",
   "version": "2.7.6"
  }
 },
 "nbformat": 4,
 "nbformat_minor": 0
}
