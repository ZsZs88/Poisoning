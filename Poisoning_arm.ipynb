{
 "cells": [
  {
   "cell_type": "markdown",
   "source": [
    "# Machine Learning Poisonong Attacks in Malware Detection"
   ],
   "metadata": {
    "collapsed": false
   }
  },
  {
   "cell_type": "markdown",
   "source": [
    "## Prestart\n",
    "### Import libraries"
   ],
   "metadata": {
    "collapsed": false
   }
  },
  {
   "cell_type": "code",
   "execution_count": 3,
   "outputs": [],
   "source": [
    "import pandas as pd\n",
    "import numpy as np\n",
    "import tensorflow as tf\n",
    "from tensorflow import keras\n",
    "from keras import layers"
   ],
   "metadata": {
    "collapsed": false
   }
  },
  {
   "cell_type": "markdown",
   "source": [
    "### Files\n",
    "Store the paths for our files in variables"
   ],
   "metadata": {
    "collapsed": false
   }
  },
  {
   "cell_type": "code",
   "execution_count": 4,
   "outputs": [],
   "source": [
    "file_arm_attacker_training = \"files\\\\arm_datasets\\\\arm_attacker_training.csv\"\n",
    "file_arm_attacker_validation = \"files\\\\arm_datasets\\\\arm_attacker_validation.csv\"\n",
    "file_arm_attacker_test = \"files\\\\arm_datasets\\\\arm_attacker_test.csv\"\n",
    "\n",
    "file_arm_victim_training = \"files\\\\arm_datasets\\\\arm_victim_training.csv\"\n",
    "file_arm_victim_validation = \"files\\\\arm_datasets\\\\arm_victim_validation.csv\"\n",
    "file_arm_victim_test = \"files\\\\arm_datasets\\\\arm_victim_test.csv\""
   ],
   "metadata": {
    "collapsed": false
   }
  },
  {
   "cell_type": "markdown",
   "source": [
    "## Creating the arm datasets\n",
    "$ 8:1:1 $ - Training:Test:Validation"
   ],
   "metadata": {
    "collapsed": false
   }
  },
  {
   "cell_type": "markdown",
   "source": [
    "### Attacker dataset\n",
    "For the first model - we call it *Clean* - we will train on clean a clean dataset"
   ],
   "metadata": {
    "collapsed": false
   }
  },
  {
   "cell_type": "markdown",
   "source": [
    "#### Reading in\n",
    "In this state the csv contains the filename and the label"
   ],
   "metadata": {
    "collapsed": false
   }
  },
  {
   "cell_type": "code",
   "execution_count": 5,
   "outputs": [],
   "source": [
    "arm_attacker_training = pd.read_csv(file_arm_attacker_training, header=None, index_col=False)\n",
    "arm_attacker_validation = pd.read_csv(file_arm_attacker_validation, header=None, index_col=False)\n",
    "arm_attacker_test = pd.read_csv(file_arm_attacker_test, header=None, index_col=False)"
   ],
   "metadata": {
    "collapsed": false
   }
  },
  {
   "cell_type": "markdown",
   "source": [
    "#### Dataset\n",
    "Creating the pure dataset, only features"
   ],
   "metadata": {
    "collapsed": false
   }
  },
  {
   "cell_type": "code",
   "execution_count": 6,
   "outputs": [],
   "source": [
    "dataset_arm_attacker_training = np.asarray(arm_attacker_training.drop(columns=arm_attacker_training.columns[-2:]))\n",
    "dataset_arm_attacker_validation = np.asarray(arm_attacker_validation.drop(columns=arm_attacker_validation.columns[-2:]))\n",
    "dataset_arm_attacker_test = np.asarray(arm_attacker_test.drop(columns=arm_attacker_test.columns[-2:]))"
   ],
   "metadata": {
    "collapsed": false
   }
  },
  {
   "cell_type": "markdown",
   "source": [
    "#### Labels for the attacker datasets\n",
    "Creating the labels for the attacker datasets\n",
    "*Malware* - $ 0 $, *Benign* - $ 1 $\n",
    "-**Trainining**: 800 malware, 800 benign\n",
    "-**Validation**: 100 malware, 100 benign\n",
    "-**Test**: 100 malware, 100 benign"
   ],
   "metadata": {
    "collapsed": false
   }
  },
  {
   "cell_type": "code",
   "execution_count": 7,
   "outputs": [],
   "source": [
    "labels_arm_attacker_training = np.asarray(arm_attacker_training[arm_attacker_training.columns[-1]])\n",
    "labels_arm_attacker_validation = np.asarray(arm_attacker_validation[arm_attacker_validation.columns[-1]])\n",
    "labels_arm_attacker_test = np.asarray(arm_attacker_test[arm_attacker_test.columns[-1]])"
   ],
   "metadata": {
    "collapsed": false
   }
  },
  {
   "cell_type": "markdown",
   "source": [
    "#### Filenames\n",
    "Getting the filenames separated just for the fun of it"
   ],
   "metadata": {
    "collapsed": false
   }
  },
  {
   "cell_type": "code",
   "execution_count": 8,
   "outputs": [],
   "source": [
    "names_arm_attacker_training = np.asarray(arm_attacker_training[arm_attacker_training.columns[-2]])\n",
    "names_arm_attacker_validation = np.asarray(arm_attacker_validation[arm_attacker_validation.columns[-2]])\n",
    "names_arm_attacker_test = np.asarray(arm_attacker_test[arm_attacker_test.columns[-2]])"
   ],
   "metadata": {
    "collapsed": false
   }
  },
  {
   "cell_type": "markdown",
   "source": [
    "### Victim dataset\n",
    "For the second model - we call it *Victim* - we will train on clean a poisoned dataset"
   ],
   "metadata": {
    "collapsed": false
   }
  },
  {
   "cell_type": "markdown",
   "source": [
    "#### Reading in\n",
    "In this state the csv contains the filename and the label"
   ],
   "metadata": {
    "collapsed": false
   }
  },
  {
   "cell_type": "code",
   "execution_count": 9,
   "outputs": [],
   "source": [
    "arm_victim_training = pd.read_csv(file_arm_victim_training, header=None, index_col=False)\n",
    "arm_victim_validation = pd.read_csv(file_arm_victim_validation, header=None, index_col=False)\n",
    "arm_victim_test = pd.read_csv(file_arm_victim_test, header=None, index_col=False)"
   ],
   "metadata": {
    "collapsed": false
   }
  },
  {
   "cell_type": "markdown",
   "source": [
    "#### Dataset\n",
    "Creating the pure dataset, only features"
   ],
   "metadata": {
    "collapsed": false
   }
  },
  {
   "cell_type": "code",
   "execution_count": 10,
   "outputs": [],
   "source": [
    "dataset_arm_victim_training = np.asarray(arm_victim_training.drop(columns=arm_victim_training.columns[-2:]))\n",
    "dataset_arm_victim_validation = np.asarray(arm_victim_validation.drop(columns=arm_victim_validation.columns[-2:]))\n",
    "dataset_arm_victim_test = np.asarray(arm_victim_test.drop(columns=arm_victim_test.columns[-2:]))"
   ],
   "metadata": {
    "collapsed": false
   }
  },
  {
   "cell_type": "markdown",
   "source": [
    "#### Labels for the victim datasets\n",
    "Creating the labels for the victim datasets\n",
    "*Malware* - $ 0 $, *Benign* - $ 1 $\n",
    "-**Trainining**: 800 malware, 800 benign\n",
    "-**Validation**: 100 malware, 100 benign\n",
    "-**Test**: 100 malware, 100 benign"
   ],
   "metadata": {
    "collapsed": false
   }
  },
  {
   "cell_type": "code",
   "execution_count": 11,
   "outputs": [],
   "source": [
    "labels_arm_victim_training = np.asarray(arm_victim_training[arm_victim_training.columns[-1]])\n",
    "labels_arm_victim_validation = np.asarray(arm_victim_validation[arm_victim_validation.columns[-1]])\n",
    "labels_arm_victim_test = np.asarray(arm_victim_test[arm_victim_test.columns[-1]])"
   ],
   "metadata": {
    "collapsed": false
   }
  },
  {
   "cell_type": "markdown",
   "source": [
    "#### Filenames\n",
    "Getting the filenames separated just for the fun of it"
   ],
   "metadata": {
    "collapsed": false
   }
  },
  {
   "cell_type": "code",
   "execution_count": 12,
   "outputs": [],
   "source": [
    "names_arm_victim_training = arm_victim_training[arm_victim_training.columns[-2]]\n",
    "names_arm_victim_validation = arm_victim_validation[arm_victim_validation.columns[-2]]\n",
    "names_arm_victim_test = arm_victim_test[arm_victim_test.columns[-2]]"
   ],
   "metadata": {
    "collapsed": false
   }
  },
  {
   "cell_type": "markdown",
   "source": [
    "## Models for arm Datasets\n",
    "In this section we will build the models with the exact same struture\n",
    "Neural network with one *hidden layer* with a $sigmoid$ *activation function*"
   ],
   "metadata": {
    "collapsed": false
   }
  },
  {
   "cell_type": "markdown",
   "source": [
    "### Model for Attacker Data\n",
    "Building, fitting and evaluating the Model with the *attacker* datasets"
   ],
   "metadata": {
    "collapsed": false
   }
  },
  {
   "cell_type": "code",
   "execution_count": 13,
   "outputs": [
    {
     "name": "stdout",
     "output_type": "stream",
     "text": [
      "Epoch 1/10\n",
      "50/50 [==============================] - 1s 5ms/step - loss: 3.7279 - binary_accuracy: 0.4925 - val_loss: 2.2140 - val_binary_accuracy: 0.4950\n",
      "Epoch 2/10\n",
      "50/50 [==============================] - 0s 2ms/step - loss: 1.7400 - binary_accuracy: 0.5213 - val_loss: 1.0480 - val_binary_accuracy: 0.5550\n",
      "Epoch 3/10\n",
      "50/50 [==============================] - 0s 2ms/step - loss: 0.7922 - binary_accuracy: 0.6181 - val_loss: 0.5538 - val_binary_accuracy: 0.7300\n",
      "Epoch 4/10\n",
      "50/50 [==============================] - 0s 2ms/step - loss: 0.4717 - binary_accuracy: 0.7744 - val_loss: 0.3983 - val_binary_accuracy: 0.8150\n",
      "Epoch 5/10\n",
      "50/50 [==============================] - 0s 2ms/step - loss: 0.3419 - binary_accuracy: 0.8562 - val_loss: 0.2981 - val_binary_accuracy: 0.8800\n",
      "Epoch 6/10\n",
      "50/50 [==============================] - 0s 2ms/step - loss: 0.2730 - binary_accuracy: 0.9013 - val_loss: 0.2505 - val_binary_accuracy: 0.9100\n",
      "Epoch 7/10\n",
      "50/50 [==============================] - 0s 2ms/step - loss: 0.2214 - binary_accuracy: 0.9231 - val_loss: 0.2177 - val_binary_accuracy: 0.9150\n",
      "Epoch 8/10\n",
      "50/50 [==============================] - 0s 2ms/step - loss: 0.1861 - binary_accuracy: 0.9406 - val_loss: 0.2088 - val_binary_accuracy: 0.9250\n",
      "Epoch 9/10\n",
      "50/50 [==============================] - 0s 2ms/step - loss: 0.1613 - binary_accuracy: 0.9550 - val_loss: 0.1683 - val_binary_accuracy: 0.9500\n",
      "Epoch 10/10\n",
      "50/50 [==============================] - 0s 2ms/step - loss: 0.1425 - binary_accuracy: 0.9613 - val_loss: 0.1735 - val_binary_accuracy: 0.9300\n",
      "7/7 [==============================] - 0s 1ms/step - loss: 0.1752 - binary_accuracy: 0.9400\n"
     ]
    },
    {
     "data": {
      "text/plain": "[0.1752450317144394, 0.9399999976158142]"
     },
     "execution_count": 13,
     "metadata": {},
     "output_type": "execute_result"
    }
   ],
   "source": [
    "model_attacker = keras.Sequential(\n",
    "    [\n",
    "        layers.Dense(1, input_shape=(131,), activation=\"sigmoid\")\n",
    "    ]\n",
    ")\n",
    "model_attacker.compile(loss=tf.keras.losses.BinaryCrossentropy(),\n",
    "                    metrics=[tf.keras.metrics.BinaryAccuracy()])\n",
    "model_attacker.fit(dataset_arm_attacker_training, labels_arm_attacker_training, epochs=10,\n",
    "                validation_data=(dataset_arm_attacker_validation, labels_arm_attacker_validation))\n",
    "\n",
    "model_attacker.evaluate(dataset_arm_attacker_test, labels_arm_attacker_test)"
   ],
   "metadata": {
    "collapsed": false
   }
  },
  {
   "cell_type": "markdown",
   "source": [
    "### Model for Victim Data\n",
    "Building, fitting and evaluating the Model with the *victim* datasets"
   ],
   "metadata": {
    "collapsed": false
   }
  },
  {
   "cell_type": "code",
   "execution_count": 14,
   "outputs": [
    {
     "name": "stdout",
     "output_type": "stream",
     "text": [
      "Epoch 1/10\n",
      "50/50 [==============================] - 0s 4ms/step - loss: 0.7084 - binary_accuracy: 0.6744 - val_loss: 0.6180 - val_binary_accuracy: 0.7300\n",
      "Epoch 2/10\n",
      "50/50 [==============================] - 0s 2ms/step - loss: 0.4579 - binary_accuracy: 0.7713 - val_loss: 0.4454 - val_binary_accuracy: 0.8000\n",
      "Epoch 3/10\n",
      "50/50 [==============================] - 0s 2ms/step - loss: 0.3331 - binary_accuracy: 0.8512 - val_loss: 0.3280 - val_binary_accuracy: 0.8650\n",
      "Epoch 4/10\n",
      "50/50 [==============================] - 0s 2ms/step - loss: 0.2541 - binary_accuracy: 0.9013 - val_loss: 0.2653 - val_binary_accuracy: 0.9000\n",
      "Epoch 5/10\n",
      "50/50 [==============================] - 0s 2ms/step - loss: 0.2080 - binary_accuracy: 0.9344 - val_loss: 0.2186 - val_binary_accuracy: 0.9350\n",
      "Epoch 6/10\n",
      "50/50 [==============================] - 0s 2ms/step - loss: 0.1749 - binary_accuracy: 0.9469 - val_loss: 0.1921 - val_binary_accuracy: 0.9450\n",
      "Epoch 7/10\n",
      "50/50 [==============================] - 0s 2ms/step - loss: 0.1486 - binary_accuracy: 0.9638 - val_loss: 0.1599 - val_binary_accuracy: 0.9450\n",
      "Epoch 8/10\n",
      "50/50 [==============================] - 0s 2ms/step - loss: 0.1293 - binary_accuracy: 0.9712 - val_loss: 0.1666 - val_binary_accuracy: 0.9500\n",
      "Epoch 9/10\n",
      "50/50 [==============================] - 0s 2ms/step - loss: 0.1164 - binary_accuracy: 0.9712 - val_loss: 0.1381 - val_binary_accuracy: 0.9600\n",
      "Epoch 10/10\n",
      "50/50 [==============================] - 0s 2ms/step - loss: 0.1030 - binary_accuracy: 0.9781 - val_loss: 0.1211 - val_binary_accuracy: 0.9600\n",
      "7/7 [==============================] - 0s 1ms/step - loss: 0.0863 - binary_accuracy: 0.9750\n"
     ]
    },
    {
     "data": {
      "text/plain": "[0.08626759797334671, 0.9750000238418579]"
     },
     "execution_count": 14,
     "metadata": {},
     "output_type": "execute_result"
    }
   ],
   "source": [
    "model_victim = keras.Sequential(\n",
    "    [\n",
    "        layers.Dense(1, input_shape=(131,), activation=\"sigmoid\")\n",
    "    ]\n",
    ")\n",
    "model_victim.compile(loss=tf.keras.losses.BinaryCrossentropy(),\n",
    "                    metrics=[tf.keras.metrics.BinaryAccuracy()])\n",
    "model_victim.fit(dataset_arm_victim_training, labels_arm_victim_training, epochs=10,\n",
    "                validation_data=(dataset_arm_victim_validation, labels_arm_victim_validation))\n",
    "\n",
    "model_victim.evaluate(dataset_arm_victim_test, labels_arm_victim_test)"
   ],
   "metadata": {
    "collapsed": false
   }
  },
  {
   "cell_type": "markdown",
   "source": [
    "## POISON IT"
   ],
   "metadata": {
    "collapsed": false
   }
  },
  {
   "cell_type": "markdown",
   "source": [
    "### Files"
   ],
   "metadata": {
    "collapsed": false
   }
  },
  {
   "cell_type": "code",
   "execution_count": 15,
   "outputs": [],
   "source": [
    "file_poison_arm_BM100 = \"files\\\\poison_data\\\\poisoned_benign_malware100.csv\"\n",
    "file_poison_arm_MB100 = \"files\\\\poison_data\\\\poisoned_malware_benign100.csv\""
   ],
   "metadata": {
    "collapsed": false
   }
  },
  {
   "cell_type": "markdown",
   "source": [
    "### Poisoned Datasets"
   ],
   "metadata": {
    "collapsed": false
   }
  },
  {
   "cell_type": "markdown",
   "source": [
    "#### Attacker dataset"
   ],
   "metadata": {
    "collapsed": false
   }
  },
  {
   "cell_type": "code",
   "execution_count": 16,
   "outputs": [
    {
     "name": "stderr",
     "output_type": "stream",
     "text": [
      "C:\\Users\\ZsZs\\AppData\\Local\\Temp\\ipykernel_6128\\2305770692.py:2: FutureWarning: The frame.append method is deprecated and will be removed from pandas in a future version. Use pandas.concat instead.\n",
      "  poisoned_arm_attacker_training = arm_attacker_training.append(poisoned_arm_attacker_training, ignore_index=True).sample(frac=1)\n"
     ]
    }
   ],
   "source": [
    "poisoned_arm_attacker_training = pd.read_csv(file_poison_arm_BM100, index_col=False, header=None)\n",
    "poisoned_arm_attacker_training = arm_attacker_training.append(poisoned_arm_attacker_training, ignore_index=True).sample(frac=1)\n",
    "dataset_poisoned_arm_attacker_training = np.asarray(poisoned_arm_attacker_training.drop(columns=poisoned_arm_attacker_training.columns[-2:]))\n",
    "labels_poisoned_arm_attacker_training = np.asarray(poisoned_arm_attacker_training[poisoned_arm_attacker_training.columns[-1]])"
   ],
   "metadata": {
    "collapsed": false
   }
  },
  {
   "cell_type": "markdown",
   "source": [
    "### Models"
   ],
   "metadata": {
    "collapsed": false
   }
  },
  {
   "cell_type": "markdown",
   "source": [
    "#### Attacker model"
   ],
   "metadata": {
    "collapsed": false
   }
  },
  {
   "cell_type": "code",
   "execution_count": 17,
   "outputs": [
    {
     "name": "stdout",
     "output_type": "stream",
     "text": [
      "Epoch 1/10\n",
      "51/51 [==============================] - 1s 4ms/step - loss: 1.8990 - binary_accuracy: 0.5913 - val_loss: 0.8727 - val_binary_accuracy: 0.6700\n",
      "Epoch 2/10\n",
      "51/51 [==============================] - 0s 2ms/step - loss: 0.6701 - binary_accuracy: 0.6950 - val_loss: 0.5491 - val_binary_accuracy: 0.7650\n",
      "Epoch 3/10\n",
      "51/51 [==============================] - 0s 2ms/step - loss: 0.4357 - binary_accuracy: 0.7807 - val_loss: 0.4348 - val_binary_accuracy: 0.7850\n",
      "Epoch 4/10\n",
      "51/51 [==============================] - 0s 2ms/step - loss: 0.3301 - binary_accuracy: 0.8528 - val_loss: 0.3122 - val_binary_accuracy: 0.8800\n",
      "Epoch 5/10\n",
      "51/51 [==============================] - 0s 2ms/step - loss: 0.2580 - binary_accuracy: 0.9025 - val_loss: 0.2476 - val_binary_accuracy: 0.9200\n",
      "Epoch 6/10\n",
      "51/51 [==============================] - 0s 2ms/step - loss: 0.2120 - binary_accuracy: 0.9242 - val_loss: 0.2118 - val_binary_accuracy: 0.9350\n",
      "Epoch 7/10\n",
      "51/51 [==============================] - 0s 2ms/step - loss: 0.1807 - binary_accuracy: 0.9497 - val_loss: 0.1775 - val_binary_accuracy: 0.9550\n",
      "Epoch 8/10\n",
      "51/51 [==============================] - 0s 2ms/step - loss: 0.1605 - binary_accuracy: 0.9615 - val_loss: 0.1578 - val_binary_accuracy: 0.9600\n",
      "Epoch 9/10\n",
      "51/51 [==============================] - 0s 1ms/step - loss: 0.1470 - binary_accuracy: 0.9627 - val_loss: 0.1568 - val_binary_accuracy: 0.9600\n",
      "Epoch 10/10\n",
      "51/51 [==============================] - 0s 2ms/step - loss: 0.1347 - binary_accuracy: 0.9708 - val_loss: 0.1354 - val_binary_accuracy: 0.9600\n",
      "7/7 [==============================] - 0s 1ms/step - loss: 0.1445 - binary_accuracy: 0.9550\n"
     ]
    },
    {
     "data": {
      "text/plain": "[0.14448142051696777, 0.9549999833106995]"
     },
     "execution_count": 17,
     "metadata": {},
     "output_type": "execute_result"
    }
   ],
   "source": [
    "model_attacker = keras.Sequential(\n",
    "    [\n",
    "        layers.Dense(1, input_shape=(131,), activation=\"sigmoid\")\n",
    "    ]\n",
    ")\n",
    "model_attacker.compile(loss=tf.keras.losses.BinaryCrossentropy(),\n",
    "                    metrics=[tf.keras.metrics.BinaryAccuracy()])\n",
    "model_attacker.fit(dataset_poisoned_arm_attacker_training, labels_poisoned_arm_attacker_training, epochs=10,\n",
    "                validation_data=(dataset_arm_attacker_validation, labels_arm_attacker_validation))\n",
    "\n",
    "model_attacker.evaluate(dataset_arm_attacker_test, labels_arm_attacker_test)"
   ],
   "metadata": {
    "collapsed": false
   }
  }
 ],
 "metadata": {
  "kernelspec": {
   "display_name": "Python 3",
   "language": "python",
   "name": "python3"
  },
  "language_info": {
   "codemirror_mode": {
    "name": "ipython",
    "version": 2
   },
   "file_extension": ".py",
   "mimetype": "text/x-python",
   "name": "python",
   "nbconvert_exporter": "python",
   "pygments_lexer": "ipython2",
   "version": "2.7.6"
  }
 },
 "nbformat": 4,
 "nbformat_minor": 0
}
